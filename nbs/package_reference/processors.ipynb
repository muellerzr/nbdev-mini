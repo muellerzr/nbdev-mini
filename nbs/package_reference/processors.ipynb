{
 "cells": [
  {
   "attachments": {},
   "cell_type": "markdown",
   "metadata": {},
   "source": [
    "# Processors\n",
    "> The various `Processor` classes available to use"
   ]
  },
  {
   "attachments": {},
   "cell_type": "markdown",
   "metadata": {},
   "source": [
    "#| autodoc nbquarto.processors.example.BasicProcessor"
   ]
  },
  {
   "attachments": {},
   "cell_type": "markdown",
   "metadata": {},
   "source": [
    "Example outcome:\n",
    "\n",
    "```python\n",
    "# This code has been processed!\n",
    "def my_function():\n",
    "    return \"Hello world!\"\n",
    "```"
   ]
  },
  {
   "attachments": {},
   "cell_type": "markdown",
   "metadata": {},
   "source": [
    "#| autodoc nbquarto.processors.autodoc.AutoDocProcessor"
   ]
  },
  {
   "attachments": {},
   "cell_type": "markdown",
   "metadata": {},
   "source": [
    "Example outcome:\n",
    "\n",
    "(See the auto-generated docs that made this!)"
   ]
  },
  {
   "attachments": {},
   "cell_type": "markdown",
   "metadata": {},
   "source": [
    "#| autodoc nbquarto.processors.codenotes.CodeNoteProcessor"
   ]
  },
  {
   "attachments": {},
   "cell_type": "markdown",
   "metadata": {},
   "source": [
    "Example outcome:"
   ]
  },
  {
   "attachments": {},
   "cell_type": "markdown",
   "metadata": {},
   "source": [
    "::: {.panel-tabset}\n",
    "## Code\n",
    "```python\n",
    "def addition(a,b):\n",
    "  return a+b\n",
    "```\n",
    "## Code & Explanation\n",
    "```python\n",
    "def addition(a,b):\n",
    "  return a+b\n",
    "```\n",
    "***\n",
    "```{.python}\n",
    "addition(a,b)\n",
    "```\n",
    ":::{style='padding-top: 0px;'}\n",
    "This function adds two numbers together\n",
    ":::\n",
    ":::\n"
   ]
  }
 ],
 "metadata": {
  "language_info": {
   "name": "python"
  },
  "orig_nbformat": 4
 },
 "nbformat": 4,
 "nbformat_minor": 2
}
