{
 "cells": [
  {
   "attachments": {},
   "cell_type": "markdown",
   "metadata": {},
   "source": [
    "# Processors\n",
    "> The various `Processor` classes available to use"
   ]
  },
  {
   "attachments": {},
   "cell_type": "markdown",
   "metadata": {},
   "source": [
    "#| autodoc nbquarto.processors.example.BasicProcessor"
   ]
  },
  {
   "attachments": {},
   "cell_type": "markdown",
   "metadata": {},
   "source": [
    "Example outcome:\n",
    "\n",
    "```python\n",
    "# This code has been processed!\n",
    "def my_function():\n",
    "    return \"Hello world!\"\n",
    "```"
   ]
  },
  {
   "attachments": {},
   "cell_type": "markdown",
   "metadata": {},
   "source": [
    "#| autodoc nbquarto.processors.AutoDocProcessor"
   ]
  },
  {
   "attachments": {},
   "cell_type": "markdown",
   "metadata": {},
   "source": [
    "Example outcome:\n",
    "\n",
    "(See the auto-generated docs that made this!)"
   ]
  },
  {
   "attachments": {},
   "cell_type": "markdown",
   "metadata": {},
   "source": [
    "#| autodoc nbquarto.processors.CodeNoteProcessor"
   ]
  },
  {
   "attachments": {},
   "cell_type": "markdown",
   "metadata": {},
   "source": [
    "Example outcome:\n",
    "\n",
    "::: {.panel-tabset}\n",
    "## Code\n",
    "```python\n",
    "def addition(a,b):\n",
    "  return a+b\n",
    "```\n",
    "## Code & Explanation\n",
    "```python\n",
    "def addition(a,b):\n",
    "  return a+b\n",
    "```\n",
    "***\n",
    "```{.python}\n",
    "addition(a,b)\n",
    "```\n",
    "::::{style='padding-top: 0px;'}\n",
    "This function adds two numbers together\n",
    "::::\n",
    ":::\n"
   ]
  },
  {
   "attachments": {},
   "cell_type": "markdown",
   "metadata": {},
   "source": [
    "#| autodoc nbquarto.processors.SemanticVersioningProcessor"
   ]
  },
  {
   "attachments": {},
   "cell_type": "markdown",
   "metadata": {},
   "source": [
    "This processor also requires that your project is configured in a particular way. To read more be sure to check out the usage guide. **TO BE COMPLETED**"
   ]
  }
 ],
 "metadata": {
  "language_info": {
   "name": "python"
  },
  "orig_nbformat": 4
 },
 "nbformat": 4,
 "nbformat_minor": 2
}
