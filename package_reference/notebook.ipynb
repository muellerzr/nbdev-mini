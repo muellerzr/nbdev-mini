{
 "cells": [
  {
   "attachments": {},
   "cell_type": "markdown",
   "metadata": {},
   "source": [
    "# Notebook Utilities\n",
    "\n",
    "> Functions to help with processing of notebooks. Most come from `nbdev`"
   ]
  },
  {
   "attachments": {},
   "cell_type": "markdown",
   "metadata": {},
   "source": [
    "### `NotebookCell` {#nbquarto.notebook.NotebookCell}\n",
    "[\\<source\\>](https://github.com/muellerzr/nbquarto/blob/main/src/nbquarto/notebook.py#L22){style=\"float:right;font-size:.875rem;\"}\n",
    "<p style=\"font-size:.875rem;line-height:1.25rem;\">\n",
    "(**`index`**: int, **`cell`**: dict)\n",
    "</p>\n",
    "\n",
    "<div style=\"font-size:.875rem;line-height:1.25rem;margin-bottom:1.25em; margin-top:1.25em; padding_bottom:0;\">\n",
    "\n",
    "A cell for a Jupyter Notebook\n",
    "\n",
    "</div>\n",
    "#### `set_source` {#nbquarto.notebook.NotebookCell.set_source}\n",
    "[\\<source\\>](https://github.com/muellerzr/nbquarto/blob/main/src/nbquarto/notebook.py#L40){style=\"float:right;font-size:.875rem;\"}\n",
    "<p style=\"font-size:.875rem;line-height:1.25rem;\">\n",
    "(**`source`**: list)\n",
    "</p>\n",
    "\n",
    "<div style=\"font-size:.875rem;line-height:1.25rem;margin-bottom:1.25em; margin-top:1.25em; padding_bottom:0;\">**Parameters:**\n",
    "\n",
    "- **source** (`list`) --\n",
    "  The source of the cell as a list of strings\n",
    "\n",
    "Sets the source attribute of the cell as a string and removes parsed directives\n",
    "\n",
    "\n",
    "\n",
    "</div>\n"
   ]
  },
  {
   "attachments": {},
   "cell_type": "markdown",
   "metadata": {},
   "source": [
    "### `nbquarto.notebook.dict2notebook` {#nbquarto.notebook.dict2notebook}\n",
    "[\\<source\\>](https://github.com/muellerzr/nbquarto/blob/main/src/nbquarto/notebook.py#L59){style=\"float:right;font-size:.875rem;\"}\n",
    "<p style=\"font-size:.875rem;line-height:1.25rem;\">\n",
    "(**`d`**: dict = None, **`**kwargs`**)\n",
    "</p>\n",
    "\n",
    "<div style=\"font-size:.875rem;line-height:1.25rem;margin-bottom:1.25em; margin-top:1.25em; padding_bottom:0;\">**Parameters:**\n",
    "\n",
    "- **d** (`dict`, *optional*, defaults to None) --\n",
    "  A dictionary to convert\n",
    "\n",
    "Converts dictionary `d` to an `AttributeDictionary`\n",
    "\n",
    "\n",
    "\n",
    "</div>"
   ]
  },
  {
   "attachments": {},
   "cell_type": "markdown",
   "metadata": {},
   "source": [
    "### `nbquarto.notebook.read_notebook` {#nbquarto.notebook.read_notebook}\n",
    "[\\<source\\>](https://github.com/muellerzr/nbquarto/blob/main/src/nbquarto/notebook.py#L72){style=\"float:right;font-size:.875rem;\"}\n",
    "<p style=\"font-size:.875rem;line-height:1.25rem;\">\n",
    "(**`path`**: str)\n",
    "</p>\n",
    "\n",
    "<div style=\"font-size:.875rem;line-height:1.25rem;margin-bottom:1.25em; margin-top:1.25em; padding_bottom:0;\">**Parameters:**\n",
    "\n",
    "- **path** (`str`) --\n",
    "  The path to the Jupyter Notebook\n",
    "\n",
    "Reads a Jupyter Notebook from a filepath\n",
    "\n",
    "\n",
    "\n",
    "</div>"
   ]
  },
  {
   "attachments": {},
   "cell_type": "markdown",
   "metadata": {},
   "source": [
    "### `nbquarto.notebook.write_notebook` {#nbquarto.notebook.write_notebook}\n",
    "[\\<source\\>](https://github.com/muellerzr/nbquarto/blob/main/src/nbquarto/notebook.py#L86){style=\"float:right;font-size:.875rem;\"}\n",
    "<p style=\"font-size:.875rem;line-height:1.25rem;\">\n",
    "(**`notebook`**: AttributeDictionary, **`path`**: str)\n",
    "</p>\n",
    "\n",
    "<div style=\"font-size:.875rem;line-height:1.25rem;margin-bottom:1.25em; margin-top:1.25em; padding_bottom:0;\">**Parameters:**\n",
    "\n",
    "- **notebook** (`AttributeDictionary`) --\n",
    "  An object representing all the cells in a Jupyter Notebook\n",
    "- **path** (`str`) --\n",
    "  The path to the Jupyter Notebook\n",
    "\n",
    "Writes the contents of `notebook` to `path`\n",
    "\n",
    "\n",
    "\n",
    "</div>"
   ]
  },
  {
   "attachments": {},
   "cell_type": "markdown",
   "metadata": {},
   "source": [
    "### `nbquarto.notebook.new_notebook` {#nbquarto.notebook.new_notebook}\n",
    "[\\<source\\>](https://github.com/muellerzr/nbquarto/blob/main/src/nbquarto/notebook.py#L126){style=\"float:right;font-size:.875rem;\"}\n",
    "<p style=\"font-size:.875rem;line-height:1.25rem;\">\n",
    "(**`cells`**: list = [], **`metadata`**: dict = {}, **`nbformat`**: int = 4, **`nbformat_minor`**: int = 5)\n",
    "</p>\n",
    "\n",
    "<div style=\"font-size:.875rem;line-height:1.25rem;margin-bottom:1.25em; margin-top:1.25em; padding_bottom:0;\">**Parameters:**\n",
    "\n",
    "- **cells** (`list` of `NotebookCell`, *optional*, defaults to []) --\n",
    "  A list of cells to make up the notebook\n",
    "- **metadata** (`dict`, *optional*, defaults to &amp;lcub;}) --\n",
    "  Metadata for the notebook\n",
    "- **nbformat** (`int`, *optional*, defaults to 4) --\n",
    "  The nbformat of the notebook\n",
    "- **nbformat_minor** (`int`, *optional*, defaults to 5) --\n",
    "  The minor nbformat version of the notebook\n",
    "\n",
    "Creates a new empty notebook\n",
    "\n",
    "\n",
    "\n",
    "</div>"
   ]
  },
  {
   "attachments": {},
   "cell_type": "markdown",
   "metadata": {},
   "source": [
    "### `nbquarto.notebook.make_cell` {#nbquarto.notebook.make_cell}\n",
    "[\\<source\\>](https://github.com/muellerzr/nbquarto/blob/main/src/nbquarto/notebook.py#L143){style=\"float:right;font-size:.875rem;\"}\n",
    "<p style=\"font-size:.875rem;line-height:1.25rem;\">\n",
    "(**`text`**: str, **`cell_type`**: str = 'code', **`**kwargs`**)\n",
    "</p>\n",
    "\n",
    "<div style=\"font-size:.875rem;line-height:1.25rem;margin-bottom:1.25em; margin-top:1.25em; padding_bottom:0;\">**Parameters:**\n",
    "\n",
    "- **text** (`str`) --\n",
    "  The source code for the cell\n",
    "- **cell_type** (`str`, *optional*, defaults to \"code\") --\n",
    "  The type of cell to make, must be one of \"code\", \"markdown\", or \"raw\"\n",
    "  kwargs --\n",
    "  Additional arguments to pass to the cell, such as `metadata`\n",
    "\n",
    "Makes a blank notebook cell\n",
    "\n",
    "\n",
    "\n",
    "</div>"
   ]
  },
  {
   "attachments": {},
   "cell_type": "markdown",
   "metadata": {},
   "source": []
  }
 ],
 "metadata": {
  "language_info": {
   "name": "python"
  },
  "orig_nbformat": 4
 },
 "nbformat": 4,
 "nbformat_minor": 2
}
